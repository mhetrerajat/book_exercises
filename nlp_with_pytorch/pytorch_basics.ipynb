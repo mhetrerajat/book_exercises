{
 "cells": [
  {
   "cell_type": "code",
   "execution_count": 1,
   "metadata": {},
   "outputs": [],
   "source": [
    "from __future__ import print_function\n",
    "import torch\n",
    "import numpy as np"
   ]
  },
  {
   "cell_type": "code",
   "execution_count": 2,
   "metadata": {},
   "outputs": [
    {
     "data": {
      "text/plain": [
       "'1.4.0'"
      ]
     },
     "execution_count": 2,
     "metadata": {},
     "output_type": "execute_result"
    }
   ],
   "source": [
    "torch.__version__"
   ]
  },
  {
   "cell_type": "code",
   "execution_count": 3,
   "metadata": {},
   "outputs": [],
   "source": [
    "%load_ext lab_black"
   ]
  },
  {
   "cell_type": "code",
   "execution_count": 4,
   "metadata": {},
   "outputs": [],
   "source": [
    "def describe(x):\n",
    "    print(\"Shape : {0}\".format(x.shape))\n",
    "    print(\"Value : {0}\".format(x))\n",
    "    print(\"Type : {0}\".format(x.type()))\n",
    "    if x.requires_grad:\n",
    "        print(\"grad fn : {0}\".format(x.grad_fn))"
   ]
  },
  {
   "cell_type": "code",
   "execution_count": 5,
   "metadata": {},
   "outputs": [
    {
     "name": "stdout",
     "output_type": "stream",
     "text": [
      "Shape : torch.Size([2])\n",
      "Value : tensor([2., 3.])\n",
      "Type : torch.FloatTensor\n"
     ]
    }
   ],
   "source": [
    "# Creating Tensor\n",
    "x = torch.Tensor((2, 3))\n",
    "describe(x)"
   ]
  },
  {
   "cell_type": "code",
   "execution_count": 6,
   "metadata": {},
   "outputs": [
    {
     "name": "stdout",
     "output_type": "stream",
     "text": [
      "Shape : torch.Size([2, 3])\n",
      "Value : tensor([[0.2227, 0.6687, 0.4352],\n",
      "        [0.2724, 0.3372, 0.8352]])\n",
      "Type : torch.FloatTensor\n"
     ]
    }
   ],
   "source": [
    "# Randomly initialised tensor\n",
    "# Generates number from uniform distribution. Probability of all values are equaly likely\n",
    "x = torch.rand(2, 3)  # uniform random\n",
    "describe(x)"
   ]
  },
  {
   "cell_type": "code",
   "execution_count": 7,
   "metadata": {},
   "outputs": [
    {
     "name": "stdout",
     "output_type": "stream",
     "text": [
      "Shape : torch.Size([2, 3])\n",
      "Value : tensor([[ 2.1532,  1.1032, -0.2669],\n",
      "        [-0.9959, -0.9242, -0.6080]])\n",
      "Type : torch.FloatTensor\n"
     ]
    }
   ],
   "source": [
    "# Generates sample from normal/Gaussian distribution.\n",
    "# Values cluster around mean i.e values which are far away from mean are less likely\n",
    "x = torch.randn(2, 3)  # random normal\n",
    "describe(x)"
   ]
  },
  {
   "cell_type": "code",
   "execution_count": 8,
   "metadata": {},
   "outputs": [
    {
     "name": "stdout",
     "output_type": "stream",
     "text": [
      "Shape : torch.Size([2, 3])\n",
      "Value : tensor([[0., 0., 0.],\n",
      "        [0., 0., 0.]])\n",
      "Type : torch.FloatTensor\n",
      "Shape : torch.Size([2, 3])\n",
      "Value : tensor([[1., 1., 1.],\n",
      "        [1., 1., 1.]])\n",
      "Type : torch.FloatTensor\n"
     ]
    }
   ],
   "source": [
    "# Filled tensor\n",
    "zeros = torch.zeros(2, 3)\n",
    "ones = torch.ones(2, 3)\n",
    "describe(zeros)\n",
    "describe(ones)"
   ]
  },
  {
   "cell_type": "code",
   "execution_count": 9,
   "metadata": {},
   "outputs": [
    {
     "name": "stdout",
     "output_type": "stream",
     "text": [
      "Shape : torch.Size([2, 3])\n",
      "Value : tensor([[5., 5., 5.],\n",
      "        [5., 5., 5.]])\n",
      "Type : torch.FloatTensor\n"
     ]
    }
   ],
   "source": [
    "ones.fill_(5)\n",
    "describe(ones)"
   ]
  },
  {
   "cell_type": "code",
   "execution_count": 10,
   "metadata": {},
   "outputs": [
    {
     "name": "stdout",
     "output_type": "stream",
     "text": [
      "Shape : torch.Size([2, 3])\n",
      "Value : tensor([[2, 1, 0],\n",
      "        [0, 0, 0]])\n",
      "Type : torch.LongTensor\n"
     ]
    }
   ],
   "source": [
    "describe(x.long())"
   ]
  },
  {
   "cell_type": "code",
   "execution_count": 11,
   "metadata": {},
   "outputs": [
    {
     "name": "stdout",
     "output_type": "stream",
     "text": [
      "Shape : torch.Size([2, 3])\n",
      "Value : tensor([[1., 1., 1.],\n",
      "        [1., 1., 1.]])\n",
      "Type : torch.FloatTensor\n"
     ]
    }
   ],
   "source": [
    "# Passing dtypes while creating tensor\n",
    "t = torch.ones([2, 3], dtype=torch.float32)\n",
    "describe(t)"
   ]
  },
  {
   "cell_type": "code",
   "execution_count": 12,
   "metadata": {},
   "outputs": [
    {
     "name": "stdout",
     "output_type": "stream",
     "text": [
      "Shape : torch.Size([5, 3])\n",
      "Value : tensor([[1, 1, 1],\n",
      "        [1, 1, 1],\n",
      "        [1, 1, 1],\n",
      "        [1, 1, 1],\n",
      "        [1, 1, 1]])\n",
      "Type : torch.LongTensor\n",
      "Shape : torch.Size([5, 3])\n",
      "Value : tensor([[-0.0369, -1.8810,  0.4867],\n",
      "        [-0.3554, -0.3079,  0.1498],\n",
      "        [ 0.0999,  0.7385, -0.4308],\n",
      "        [-0.8384, -1.3352,  0.0542],\n",
      "        [-1.4100, -0.8453, -0.7891]])\n",
      "Type : torch.FloatTensor\n"
     ]
    }
   ],
   "source": [
    "# Create tensor similar to other\n",
    "_x = x.new_ones(5, 3, dtype=torch.long)\n",
    "y = torch.randn_like(_x, dtype=torch.float)\n",
    "\n",
    "describe(_x)\n",
    "describe(y)"
   ]
  },
  {
   "cell_type": "code",
   "execution_count": 13,
   "metadata": {},
   "outputs": [
    {
     "name": "stdout",
     "output_type": "stream",
     "text": [
      "Shape : torch.Size([5, 3])\n",
      "Value : tensor([[ 0.9631, -0.8810,  1.4867],\n",
      "        [ 0.6446,  0.6921,  1.1498],\n",
      "        [ 1.0999,  1.7385,  0.5692],\n",
      "        [ 0.1616, -0.3352,  1.0542],\n",
      "        [-0.4100,  0.1547,  0.2109]])\n",
      "Type : torch.FloatTensor\n",
      "Shape : torch.Size([2, 3])\n",
      "Value : tensor([[ 2.1532,  1.1032, -0.2669],\n",
      "        [-0.9959, -0.9242, -0.6080]])\n",
      "Type : torch.FloatTensor\n",
      "Shape : torch.Size([5, 3])\n",
      "Value : tensor([[-0.0738, -3.7619,  0.9733],\n",
      "        [-0.7108, -0.6157,  0.2995],\n",
      "        [ 0.1999,  1.4770, -0.8615],\n",
      "        [-1.6767, -2.6705,  0.1084],\n",
      "        [-2.8201, -1.6906, -1.5781]])\n",
      "Type : torch.FloatTensor\n"
     ]
    }
   ],
   "source": [
    "# Arithmetic operations\n",
    "result = torch.empty(5, 3)\n",
    "torch.add(_x, y, out=result)\n",
    "describe(result)\n",
    "describe(x)\n",
    "\n",
    "\n",
    "# Inplace operation\n",
    "y.add_(y)\n",
    "describe(y)"
   ]
  },
  {
   "cell_type": "code",
   "execution_count": 14,
   "metadata": {},
   "outputs": [
    {
     "name": "stdout",
     "output_type": "stream",
     "text": [
      "Shape : torch.Size([2])\n",
      "Value : tensor([ 1.1032, -0.9242])\n",
      "Type : torch.FloatTensor\n"
     ]
    }
   ],
   "source": [
    "# Slicing\n",
    "describe(x[:, 1])"
   ]
  },
  {
   "cell_type": "code",
   "execution_count": 15,
   "metadata": {},
   "outputs": [
    {
     "name": "stdout",
     "output_type": "stream",
     "text": [
      "Shape : torch.Size([5, 4])\n",
      "Value : tensor([[-0.7037,  0.6498,  0.3233, -0.6531],\n",
      "        [-0.3666, -0.1083,  0.1828, -0.7725],\n",
      "        [ 1.2107,  1.8621,  0.6720,  0.4135],\n",
      "        [ 0.9754, -1.2644,  0.3403,  0.5694],\n",
      "        [ 0.0805,  0.1869,  0.0229, -0.4470]])\n",
      "Type : torch.FloatTensor\n",
      "Shape : torch.Size([20])\n",
      "Value : tensor([-0.7037,  0.6498,  0.3233, -0.6531, -0.3666, -0.1083,  0.1828, -0.7725,\n",
      "         1.2107,  1.8621,  0.6720,  0.4135,  0.9754, -1.2644,  0.3403,  0.5694,\n",
      "         0.0805,  0.1869,  0.0229, -0.4470])\n",
      "Type : torch.FloatTensor\n",
      "Shape : torch.Size([1, 20])\n",
      "Value : tensor([[-0.7037,  0.6498,  0.3233, -0.6531, -0.3666, -0.1083,  0.1828, -0.7725,\n",
      "          1.2107,  1.8621,  0.6720,  0.4135,  0.9754, -1.2644,  0.3403,  0.5694,\n",
      "          0.0805,  0.1869,  0.0229, -0.4470]])\n",
      "Type : torch.FloatTensor\n"
     ]
    }
   ],
   "source": [
    "# Resizing\n",
    "z = torch.randn(5, 4)\n",
    "_z = z.view(20)\n",
    "__z = z.view(-1, 20)\n",
    "describe(z)\n",
    "describe(_z)\n",
    "describe(__z)"
   ]
  },
  {
   "cell_type": "markdown",
   "metadata": {},
   "source": [
    "### Autograd"
   ]
  },
  {
   "cell_type": "code",
   "execution_count": 16,
   "metadata": {},
   "outputs": [
    {
     "name": "stdout",
     "output_type": "stream",
     "text": [
      "Shape : torch.Size([2, 2])\n",
      "Value : tensor([[1., 1.],\n",
      "        [1., 1.]], requires_grad=True)\n",
      "Type : torch.FloatTensor\n",
      "grad fn : None\n",
      "Shape : torch.Size([])\n",
      "Value : 0.9468026757240295\n",
      "Type : torch.FloatTensor\n",
      "grad fn : <MeanBackward0 object at 0x11e2c9b90>\n"
     ]
    },
    {
     "data": {
      "text/plain": [
       "tensor([[0.2500, 0.2500],\n",
       "        [0.2500, 0.2500]])"
      ]
     },
     "execution_count": 16,
     "metadata": {},
     "output_type": "execute_result"
    }
   ],
   "source": [
    "m = torch.ones(2, 2, requires_grad=True)\n",
    "describe(m)\n",
    "n = m.add(torch.randn_like(m))\n",
    "p = n.mean()\n",
    "describe(p)\n",
    "p.backward()\n",
    "m.grad"
   ]
  },
  {
   "cell_type": "code",
   "execution_count": null,
   "metadata": {},
   "outputs": [],
   "source": []
  }
 ],
 "metadata": {
  "kernelspec": {
   "display_name": "Python 3",
   "language": "python",
   "name": "python3"
  },
  "language_info": {
   "codemirror_mode": {
    "name": "ipython",
    "version": 3
   },
   "file_extension": ".py",
   "mimetype": "text/x-python",
   "name": "python",
   "nbconvert_exporter": "python",
   "pygments_lexer": "ipython3",
   "version": "3.7.4"
  }
 },
 "nbformat": 4,
 "nbformat_minor": 4
}
